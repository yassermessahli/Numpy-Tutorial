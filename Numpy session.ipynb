{
 "cells": [
  {
   "cell_type": "markdown",
   "id": "16cd7635",
   "metadata": {},
   "source": [
    "# SOAI Session - Numpy Tutorial"
   ]
  },
  {
   "cell_type": "markdown",
   "id": "883b9115",
   "metadata": {},
   "source": [
    "![logo](data:image/png;base64,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)"
   ]
  },
  {
   "cell_type": "code",
   "execution_count": 32,
   "id": "7995c3ac",
   "metadata": {},
   "outputs": [],
   "source": [
    "# import the library\n",
    "import numpy as np"
   ]
  },
  {
   "cell_type": "markdown",
   "id": "aa397c23",
   "metadata": {},
   "source": [
    "## Generating arrays"
   ]
  },
  {
   "cell_type": "code",
   "execution_count": 2,
   "id": "d7d76f72",
   "metadata": {},
   "outputs": [
    {
     "data": {
      "text/plain": [
       "array([1, 2, 3])"
      ]
     },
     "execution_count": 2,
     "metadata": {},
     "output_type": "execute_result"
    }
   ],
   "source": [
    "# create 1D array\n",
    "np.array([1, 2, 3])"
   ]
  },
  {
   "cell_type": "code",
   "execution_count": 3,
   "id": "f2be2c87",
   "metadata": {},
   "outputs": [
    {
     "data": {
      "text/plain": [
       "array([[1, 2, 3],\n",
       "       [4, 5, 6]])"
      ]
     },
     "execution_count": 3,
     "metadata": {},
     "output_type": "execute_result"
    }
   ],
   "source": [
    "# create 2D array\n",
    "np.array([[1, 2, 3], [4, 5, 6]])"
   ]
  },
  {
   "cell_type": "code",
   "execution_count": 4,
   "id": "9e4f3e5d",
   "metadata": {},
   "outputs": [
    {
     "data": {
      "text/plain": [
       "array([[[1, 2],\n",
       "        [3, 4]],\n",
       "\n",
       "       [[5, 6],\n",
       "        [7, 8]]])"
      ]
     },
     "execution_count": 4,
     "metadata": {},
     "output_type": "execute_result"
    }
   ],
   "source": [
    "# ceate 3D array\n",
    "np.array([[[1, 2], [3, 4]], [[5, 6], [7, 8]]])"
   ]
  },
  {
   "cell_type": "code",
   "execution_count": 5,
   "id": "c8cb2d4b",
   "metadata": {},
   "outputs": [
    {
     "data": {
      "text/plain": [
       "array([[0., 0., 0.],\n",
       "       [0., 0., 0.]])"
      ]
     },
     "execution_count": 5,
     "metadata": {},
     "output_type": "execute_result"
    }
   ],
   "source": [
    "# array of zeros\n",
    "np.zeros((2, 3))"
   ]
  },
  {
   "cell_type": "code",
   "execution_count": 6,
   "id": "da680c37",
   "metadata": {},
   "outputs": [
    {
     "data": {
      "text/plain": [
       "array([[1., 1., 1., 1.],\n",
       "       [1., 1., 1., 1.],\n",
       "       [1., 1., 1., 1.]])"
      ]
     },
     "execution_count": 6,
     "metadata": {},
     "output_type": "execute_result"
    }
   ],
   "source": [
    "# array full of ones\n",
    "np.ones((3, 4))"
   ]
  },
  {
   "cell_type": "code",
   "execution_count": 7,
   "id": "b6501a69",
   "metadata": {},
   "outputs": [
    {
     "data": {
      "text/plain": [
       "array([[0., 0.],\n",
       "       [0., 0.],\n",
       "       [0., 0.]])"
      ]
     },
     "execution_count": 7,
     "metadata": {},
     "output_type": "execute_result"
    }
   ],
   "source": [
    "# empty array\n",
    "np.empty((3, 2))"
   ]
  },
  {
   "cell_type": "code",
   "execution_count": 8,
   "id": "785eedeb",
   "metadata": {},
   "outputs": [
    {
     "data": {
      "text/plain": [
       "array([[18, 16],\n",
       "       [ 7, 10],\n",
       "       [15, 16],\n",
       "       [ 2, 17]])"
      ]
     },
     "execution_count": 8,
     "metadata": {},
     "output_type": "execute_result"
    }
   ],
   "source": [
    "# array of random numbers\n",
    "np.random.randint(0, 19, (4, 2))"
   ]
  },
  {
   "cell_type": "code",
   "execution_count": 9,
   "id": "48adf2ba",
   "metadata": {},
   "outputs": [
    {
     "data": {
      "text/plain": [
       "array([ 3,  5,  7,  9, 11, 13, 15])"
      ]
     },
     "execution_count": 9,
     "metadata": {},
     "output_type": "execute_result"
    }
   ],
   "source": [
    "# a range of numbers\n",
    "np.arange(3, 16, 2)"
   ]
  },
  {
   "cell_type": "code",
   "execution_count": 10,
   "id": "a9372e7d",
   "metadata": {},
   "outputs": [
    {
     "data": {
      "text/plain": [
       "array([1.        , 1.66666667, 2.33333333, 3.        , 3.66666667,\n",
       "       4.33333333, 5.        ])"
      ]
     },
     "execution_count": 10,
     "metadata": {},
     "output_type": "execute_result"
    }
   ],
   "source": [
    "# line-like array\n",
    "np.linspace(1, 5, 7)"
   ]
  },
  {
   "cell_type": "markdown",
   "id": "0cc5db6f",
   "metadata": {},
   "source": [
    "# Array indexing"
   ]
  },
  {
   "cell_type": "code",
   "execution_count": 11,
   "id": "73665cfd",
   "metadata": {},
   "outputs": [],
   "source": [
    "A = np.array([[1, 2, 3], [4, 5, 6]])"
   ]
  },
  {
   "cell_type": "code",
   "execution_count": 12,
   "id": "d2317fd3",
   "metadata": {},
   "outputs": [
    {
     "data": {
      "text/plain": [
       "array([[1, 2, 3],\n",
       "       [4, 5, 6]])"
      ]
     },
     "execution_count": 12,
     "metadata": {},
     "output_type": "execute_result"
    }
   ],
   "source": [
    "A"
   ]
  },
  {
   "cell_type": "code",
   "execution_count": 13,
   "id": "0cdad744",
   "metadata": {},
   "outputs": [
    {
     "data": {
      "text/plain": [
       "6"
      ]
     },
     "execution_count": 13,
     "metadata": {},
     "output_type": "execute_result"
    }
   ],
   "source": [
    "# indexing a value\n",
    "A[1, 2]"
   ]
  },
  {
   "cell_type": "code",
   "execution_count": 14,
   "id": "f6a3823e",
   "metadata": {},
   "outputs": [
    {
     "data": {
      "text/plain": [
       "array([1, 2, 3])"
      ]
     },
     "execution_count": 14,
     "metadata": {},
     "output_type": "execute_result"
    }
   ],
   "source": [
    "# slicing a a range\n",
    "A[0, :]"
   ]
  },
  {
   "cell_type": "code",
   "execution_count": 15,
   "id": "a858916e",
   "metadata": {},
   "outputs": [
    {
     "data": {
      "text/plain": [
       "array([2, 5])"
      ]
     },
     "execution_count": 15,
     "metadata": {},
     "output_type": "execute_result"
    }
   ],
   "source": [
    "A[:, 1]"
   ]
  },
  {
   "cell_type": "code",
   "execution_count": 16,
   "id": "ff4ea290",
   "metadata": {},
   "outputs": [
    {
     "data": {
      "text/plain": [
       "array([5, 6])"
      ]
     },
     "execution_count": 16,
     "metadata": {},
     "output_type": "execute_result"
    }
   ],
   "source": [
    "A[1, 1:]"
   ]
  },
  {
   "cell_type": "markdown",
   "id": "131e6060",
   "metadata": {},
   "source": [
    "# Array shaping"
   ]
  },
  {
   "cell_type": "code",
   "execution_count": 17,
   "id": "192e6e52",
   "metadata": {},
   "outputs": [],
   "source": [
    "A = np.array([[1, 2, 3], [4, 5, 6]])"
   ]
  },
  {
   "cell_type": "code",
   "execution_count": 18,
   "id": "d3839a9d",
   "metadata": {},
   "outputs": [
    {
     "data": {
      "text/plain": [
       "2"
      ]
     },
     "execution_count": 18,
     "metadata": {},
     "output_type": "execute_result"
    }
   ],
   "source": [
    "# dimentions of array\n",
    "A.ndim"
   ]
  },
  {
   "cell_type": "code",
   "execution_count": 19,
   "id": "8bded1b7",
   "metadata": {},
   "outputs": [
    {
     "data": {
      "text/plain": [
       "(2, 3)"
      ]
     },
     "execution_count": 19,
     "metadata": {},
     "output_type": "execute_result"
    }
   ],
   "source": [
    "# shape of array\n",
    "A.shape"
   ]
  },
  {
   "cell_type": "code",
   "execution_count": 20,
   "id": "942cb7a9",
   "metadata": {},
   "outputs": [
    {
     "data": {
      "text/plain": [
       "6"
      ]
     },
     "execution_count": 20,
     "metadata": {},
     "output_type": "execute_result"
    }
   ],
   "source": [
    "# number of elements in array\n",
    "A.size"
   ]
  },
  {
   "cell_type": "code",
   "execution_count": 21,
   "id": "4873f4ef",
   "metadata": {},
   "outputs": [
    {
     "data": {
      "text/plain": [
       "dtype('int32')"
      ]
     },
     "execution_count": 21,
     "metadata": {},
     "output_type": "execute_result"
    }
   ],
   "source": [
    "# the data type\n",
    "A.dtype"
   ]
  },
  {
   "cell_type": "code",
   "execution_count": 22,
   "id": "5026a7d1",
   "metadata": {},
   "outputs": [
    {
     "data": {
      "text/plain": [
       "array([[1, 2, 3, 4, 5, 6]])"
      ]
     },
     "execution_count": 22,
     "metadata": {},
     "output_type": "execute_result"
    }
   ],
   "source": [
    "# reshape an array\n",
    "A.reshape((1, 6))"
   ]
  },
  {
   "cell_type": "markdown",
   "id": "ab4480f3",
   "metadata": {},
   "source": [
    "# Numpy Operations"
   ]
  },
  {
   "cell_type": "markdown",
   "id": "b4e7c062",
   "metadata": {},
   "source": [
    "### 1. Arithmetic operations"
   ]
  },
  {
   "cell_type": "code",
   "execution_count": 23,
   "id": "6565c2ca",
   "metadata": {},
   "outputs": [
    {
     "data": {
      "text/plain": [
       "array([[1, 2, 3],\n",
       "       [4, 5, 6]])"
      ]
     },
     "execution_count": 23,
     "metadata": {},
     "output_type": "execute_result"
    }
   ],
   "source": [
    "A"
   ]
  },
  {
   "cell_type": "code",
   "execution_count": 24,
   "id": "8009e9ef",
   "metadata": {},
   "outputs": [
    {
     "data": {
      "text/plain": [
       "array([[4, 5, 6],\n",
       "       [7, 8, 9]])"
      ]
     },
     "execution_count": 24,
     "metadata": {},
     "output_type": "execute_result"
    }
   ],
   "source": [
    "A + 3"
   ]
  },
  {
   "cell_type": "code",
   "execution_count": 25,
   "id": "1b9bbbab",
   "metadata": {},
   "outputs": [
    {
     "data": {
      "text/plain": [
       "array([[0, 1, 2],\n",
       "       [3, 4, 5]])"
      ]
     },
     "execution_count": 25,
     "metadata": {},
     "output_type": "execute_result"
    }
   ],
   "source": [
    "A - 1"
   ]
  },
  {
   "cell_type": "code",
   "execution_count": 26,
   "id": "34aca8a6",
   "metadata": {},
   "outputs": [
    {
     "data": {
      "text/plain": [
       "array([[ 2,  4,  6],\n",
       "       [ 8, 10, 12]])"
      ]
     },
     "execution_count": 26,
     "metadata": {},
     "output_type": "execute_result"
    }
   ],
   "source": [
    "A * 2"
   ]
  },
  {
   "cell_type": "code",
   "execution_count": 27,
   "id": "d81c0c41",
   "metadata": {},
   "outputs": [
    {
     "data": {
      "text/plain": [
       "array([[0.2, 0.4, 0.6],\n",
       "       [0.8, 1. , 1.2]])"
      ]
     },
     "execution_count": 27,
     "metadata": {},
     "output_type": "execute_result"
    }
   ],
   "source": [
    "A / 5"
   ]
  },
  {
   "cell_type": "code",
   "execution_count": 28,
   "id": "20553df6",
   "metadata": {},
   "outputs": [
    {
     "data": {
      "text/plain": [
       "array([[   1,   16,   81],\n",
       "       [ 256,  625, 1296]], dtype=int32)"
      ]
     },
     "execution_count": 28,
     "metadata": {},
     "output_type": "execute_result"
    }
   ],
   "source": [
    "# the power\n",
    "A ** 4"
   ]
  },
  {
   "cell_type": "code",
   "execution_count": 29,
   "id": "6d31af0e",
   "metadata": {},
   "outputs": [
    {
     "data": {
      "text/plain": [
       "array([[0, 1, 1],\n",
       "       [2, 2, 3]], dtype=int32)"
      ]
     },
     "execution_count": 29,
     "metadata": {},
     "output_type": "execute_result"
    }
   ],
   "source": [
    "# the Div\n",
    "A // 2"
   ]
  },
  {
   "cell_type": "code",
   "execution_count": 30,
   "id": "87053415",
   "metadata": {},
   "outputs": [
    {
     "data": {
      "text/plain": [
       "array([[1, 2, 0],\n",
       "       [1, 2, 0]], dtype=int32)"
      ]
     },
     "execution_count": 30,
     "metadata": {},
     "output_type": "execute_result"
    }
   ],
   "source": [
    "#  the Mod\n",
    "A % 3"
   ]
  },
  {
   "cell_type": "markdown",
   "id": "eeeddb86",
   "metadata": {},
   "source": [
    "### 2. Array operations"
   ]
  },
  {
   "cell_type": "code",
   "execution_count": 3,
   "id": "9fb5fb69",
   "metadata": {},
   "outputs": [],
   "source": [
    "A = np.array([[2, 4, 3], [5, 3, 6]])\n",
    "B = np.array([[6, 3, 2], [7, 4, 3]])"
   ]
  },
  {
   "cell_type": "code",
   "execution_count": 58,
   "id": "2c11c0e9",
   "metadata": {},
   "outputs": [
    {
     "data": {
      "text/plain": [
       "array([[ 8,  7,  5],\n",
       "       [12,  7,  9]])"
      ]
     },
     "execution_count": 58,
     "metadata": {},
     "output_type": "execute_result"
    }
   ],
   "source": [
    "A + B"
   ]
  },
  {
   "cell_type": "code",
   "execution_count": 59,
   "id": "f8b01ef0",
   "metadata": {},
   "outputs": [
    {
     "data": {
      "text/plain": [
       "array([[-4,  1,  1],\n",
       "       [-2, -1,  3]])"
      ]
     },
     "execution_count": 59,
     "metadata": {},
     "output_type": "execute_result"
    }
   ],
   "source": [
    "A - B"
   ]
  },
  {
   "cell_type": "code",
   "execution_count": 60,
   "id": "0de002dc",
   "metadata": {},
   "outputs": [
    {
     "data": {
      "text/plain": [
       "array([[12, 12,  6],\n",
       "       [35, 12, 18]])"
      ]
     },
     "execution_count": 60,
     "metadata": {},
     "output_type": "execute_result"
    }
   ],
   "source": [
    "A * B"
   ]
  },
  {
   "cell_type": "code",
   "execution_count": 61,
   "id": "280fb1b7",
   "metadata": {},
   "outputs": [
    {
     "data": {
      "text/plain": [
       "array([[0.33333333, 1.33333333, 1.5       ],\n",
       "       [0.71428571, 0.75      , 2.        ]])"
      ]
     },
     "execution_count": 61,
     "metadata": {},
     "output_type": "execute_result"
    }
   ],
   "source": [
    "A / B"
   ]
  },
  {
   "cell_type": "code",
   "execution_count": 62,
   "id": "79e92a8b",
   "metadata": {},
   "outputs": [
    {
     "data": {
      "text/plain": [
       "array([[False,  True,  True],\n",
       "       [False, False,  True]])"
      ]
     },
     "execution_count": 62,
     "metadata": {},
     "output_type": "execute_result"
    }
   ],
   "source": [
    "# if element of A > element of B then return True, for each element\n",
    "A > B"
   ]
  },
  {
   "cell_type": "code",
   "execution_count": 63,
   "id": "df3bf047",
   "metadata": {},
   "outputs": [
    {
     "data": {
      "text/plain": [
       "array([[ True, False, False],\n",
       "       [ True,  True, False]])"
      ]
     },
     "execution_count": 63,
     "metadata": {},
     "output_type": "execute_result"
    }
   ],
   "source": [
    "A < B"
   ]
  },
  {
   "cell_type": "code",
   "execution_count": 64,
   "id": "258d95ca",
   "metadata": {},
   "outputs": [
    {
     "data": {
      "text/plain": [
       "array([[False, False, False],\n",
       "       [False, False, False]])"
      ]
     },
     "execution_count": 64,
     "metadata": {},
     "output_type": "execute_result"
    }
   ],
   "source": [
    "A == B"
   ]
  },
  {
   "cell_type": "code",
   "execution_count": 65,
   "id": "a23f026e",
   "metadata": {},
   "outputs": [],
   "source": [
    "C = np.array([[6, 3, 4, 7], [7, 4, 3, 2], [6, 3, 1, 8]])"
   ]
  },
  {
   "cell_type": "code",
   "execution_count": 66,
   "id": "f86737b8",
   "metadata": {},
   "outputs": [
    {
     "data": {
      "text/plain": [
       "array([[58, 31, 23, 46],\n",
       "       [87, 45, 35, 89]])"
      ]
     },
     "execution_count": 66,
     "metadata": {},
     "output_type": "execute_result"
    }
   ],
   "source": [
    "#  dot product (produit matriciel)\n",
    "A.dot(C)"
   ]
  },
  {
   "cell_type": "code",
   "execution_count": 67,
   "id": "64d0e6f2",
   "metadata": {},
   "outputs": [
    {
     "data": {
      "text/plain": [
       "array([[2, 5],\n",
       "       [4, 3],\n",
       "       [3, 6]])"
      ]
     },
     "execution_count": 67,
     "metadata": {},
     "output_type": "execute_result"
    }
   ],
   "source": [
    "#  transpose of a matrix\n",
    "A.T"
   ]
  },
  {
   "cell_type": "markdown",
   "id": "51ba329b",
   "metadata": {},
   "source": [
    "### 3. Mathematical Operations"
   ]
  },
  {
   "cell_type": "code",
   "execution_count": 4,
   "id": "21bb06a8",
   "metadata": {},
   "outputs": [
    {
     "data": {
      "text/plain": [
       "array([[2, 4, 3],\n",
       "       [5, 3, 6]])"
      ]
     },
     "execution_count": 4,
     "metadata": {},
     "output_type": "execute_result"
    }
   ],
   "source": [
    "A"
   ]
  },
  {
   "cell_type": "code",
   "execution_count": 5,
   "id": "4bd10094",
   "metadata": {},
   "outputs": [
    {
     "data": {
      "text/plain": [
       "array([[ 4, 16,  9],\n",
       "       [25,  9, 36]])"
      ]
     },
     "execution_count": 5,
     "metadata": {},
     "output_type": "execute_result"
    }
   ],
   "source": [
    "np.square(A)"
   ]
  },
  {
   "cell_type": "code",
   "execution_count": 6,
   "id": "27c9ef6c",
   "metadata": {},
   "outputs": [
    {
     "data": {
      "text/plain": [
       "array([[1.41421356, 2.        , 1.73205081],\n",
       "       [2.23606798, 1.73205081, 2.44948974]])"
      ]
     },
     "execution_count": 6,
     "metadata": {},
     "output_type": "execute_result"
    }
   ],
   "source": [
    "np.sqrt(A)"
   ]
  },
  {
   "cell_type": "code",
   "execution_count": 7,
   "id": "fa3f5fb1",
   "metadata": {},
   "outputs": [
    {
     "data": {
      "text/plain": [
       "array([[  32, 1024,  243],\n",
       "       [3125,  243, 7776]], dtype=int32)"
      ]
     },
     "execution_count": 7,
     "metadata": {},
     "output_type": "execute_result"
    }
   ],
   "source": [
    "np.power(A, 5)"
   ]
  },
  {
   "cell_type": "code",
   "execution_count": 8,
   "id": "e6383c89",
   "metadata": {},
   "outputs": [
    {
     "data": {
      "text/plain": [
       "array([[  7.3890561 ,  54.59815003,  20.08553692],\n",
       "       [148.4131591 ,  20.08553692, 403.42879349]])"
      ]
     },
     "execution_count": 8,
     "metadata": {},
     "output_type": "execute_result"
    }
   ],
   "source": [
    "np.exp(A)"
   ]
  },
  {
   "cell_type": "code",
   "execution_count": 9,
   "id": "69a4c41a",
   "metadata": {},
   "outputs": [
    {
     "data": {
      "text/plain": [
       "array([[0.69314718, 1.38629436, 1.09861229],\n",
       "       [1.60943791, 1.09861229, 1.79175947]])"
      ]
     },
     "execution_count": 9,
     "metadata": {},
     "output_type": "execute_result"
    }
   ],
   "source": [
    "np.log(A)"
   ]
  },
  {
   "cell_type": "code",
   "execution_count": 10,
   "id": "da304991",
   "metadata": {},
   "outputs": [
    {
     "data": {
      "text/plain": [
       "array([[ 0.90929743, -0.7568025 ,  0.14112001],\n",
       "       [-0.95892427,  0.14112001, -0.2794155 ]])"
      ]
     },
     "execution_count": 10,
     "metadata": {},
     "output_type": "execute_result"
    }
   ],
   "source": [
    "np.sin(A)"
   ]
  },
  {
   "cell_type": "code",
   "execution_count": 12,
   "id": "0328c6d5",
   "metadata": {},
   "outputs": [
    {
     "data": {
      "text/plain": [
       "array([[-0.41614684, -0.65364362, -0.9899925 ],\n",
       "       [ 0.28366219, -0.9899925 ,  0.96017029]])"
      ]
     },
     "execution_count": 12,
     "metadata": {},
     "output_type": "execute_result"
    }
   ],
   "source": [
    "np.cos(A)"
   ]
  },
  {
   "cell_type": "code",
   "execution_count": 18,
   "id": "df93b0f6",
   "metadata": {},
   "outputs": [
    {
     "data": {
      "text/plain": [
       "array([[-2.18503986,  1.15782128, -0.14254654],\n",
       "       [-3.38051501, -0.14254654, -0.29100619]])"
      ]
     },
     "execution_count": 18,
     "metadata": {},
     "output_type": "execute_result"
    }
   ],
   "source": [
    "np.tan(A)"
   ]
  },
  {
   "cell_type": "code",
   "execution_count": 15,
   "id": "2f11986a",
   "metadata": {},
   "outputs": [
    {
     "data": {
      "text/plain": [
       "array([[  3.62686041,  27.2899172 ,  10.01787493],\n",
       "       [ 74.20321058,  10.01787493, 201.71315737]])"
      ]
     },
     "execution_count": 15,
     "metadata": {},
     "output_type": "execute_result"
    }
   ],
   "source": [
    "np.sinh(A)"
   ]
  },
  {
   "cell_type": "code",
   "execution_count": 17,
   "id": "c82ec2fe",
   "metadata": {},
   "outputs": [
    {
     "data": {
      "text/plain": [
       "array([[  3.76219569,  27.30823284,  10.067662  ],\n",
       "       [ 74.20994852,  10.067662  , 201.71563612]])"
      ]
     },
     "execution_count": 17,
     "metadata": {},
     "output_type": "execute_result"
    }
   ],
   "source": [
    "np.cosh(A)"
   ]
  },
  {
   "cell_type": "code",
   "execution_count": 19,
   "id": "83119630",
   "metadata": {},
   "outputs": [
    {
     "data": {
      "text/plain": [
       "array([[0.96402758, 0.9993293 , 0.99505475],\n",
       "       [0.9999092 , 0.99505475, 0.99998771]])"
      ]
     },
     "execution_count": 19,
     "metadata": {},
     "output_type": "execute_result"
    }
   ],
   "source": [
    "np.tanh(A)"
   ]
  },
  {
   "cell_type": "markdown",
   "id": "5f2cf1c8",
   "metadata": {},
   "source": [
    "# Advanced topics"
   ]
  },
  {
   "cell_type": "markdown",
   "id": "fae2ac9b",
   "metadata": {},
   "source": [
    "### 1. Broadcasting"
   ]
  },
  {
   "cell_type": "code",
   "execution_count": 22,
   "id": "04eafc1a",
   "metadata": {},
   "outputs": [
    {
     "data": {
      "text/plain": [
       "array([[3, 5, 2],\n",
       "       [8, 4, 2]])"
      ]
     },
     "execution_count": 22,
     "metadata": {},
     "output_type": "execute_result"
    }
   ],
   "source": [
    "A = np.array([[3, 5, 2], [8, 4, 2]])\n",
    "A"
   ]
  },
  {
   "cell_type": "code",
   "execution_count": 23,
   "id": "403bf439",
   "metadata": {},
   "outputs": [
    {
     "data": {
      "text/plain": [
       "array([[4, 6, 3],\n",
       "       [9, 5, 3]])"
      ]
     },
     "execution_count": 23,
     "metadata": {},
     "output_type": "execute_result"
    }
   ],
   "source": [
    "A + 1"
   ]
  },
  {
   "cell_type": "code",
   "execution_count": 24,
   "id": "723c7d37",
   "metadata": {},
   "outputs": [
    {
     "data": {
      "text/plain": [
       "array([[4, 6, 3],\n",
       "       [9, 5, 3]])"
      ]
     },
     "execution_count": 24,
     "metadata": {},
     "output_type": "execute_result"
    }
   ],
   "source": [
    "# change the shape of the vector into the same shape of the matrix then perform the operations\n",
    "A + np.array([[1, 1, 1]])"
   ]
  },
  {
   "cell_type": "code",
   "execution_count": 25,
   "id": "e110b5a8",
   "metadata": {},
   "outputs": [
    {
     "data": {
      "text/plain": [
       "array([[ 6,  8,  5],\n",
       "       [11,  7,  5]])"
      ]
     },
     "execution_count": 25,
     "metadata": {},
     "output_type": "execute_result"
    }
   ],
   "source": [
    "A + np.array([[3], [3]])"
   ]
  },
  {
   "cell_type": "code",
   "execution_count": 27,
   "id": "0e75c82c",
   "metadata": {},
   "outputs": [
    {
     "ename": "ValueError",
     "evalue": "operands could not be broadcast together with shapes (2,3) (2,2) ",
     "output_type": "error",
     "traceback": [
      "\u001b[1;31m---------------------------------------------------------------------------\u001b[0m",
      "\u001b[1;31mValueError\u001b[0m                                Traceback (most recent call last)",
      "Input \u001b[1;32mIn [27]\u001b[0m, in \u001b[0;36m<cell line: 2>\u001b[1;34m()\u001b[0m\n\u001b[0;32m      1\u001b[0m \u001b[38;5;66;03m# can't find a way to broadcast a matrix of shape (2, 2) into matrix of shape (2, 3)\u001b[39;00m\n\u001b[1;32m----> 2\u001b[0m \u001b[43mA\u001b[49m\u001b[43m \u001b[49m\u001b[38;5;241;43m+\u001b[39;49m\u001b[43m \u001b[49m\u001b[43mnp\u001b[49m\u001b[38;5;241;43m.\u001b[39;49m\u001b[43marray\u001b[49m\u001b[43m(\u001b[49m\u001b[43m[\u001b[49m\u001b[43m[\u001b[49m\u001b[38;5;241;43m1\u001b[39;49m\u001b[43m,\u001b[49m\u001b[43m \u001b[49m\u001b[38;5;241;43m1\u001b[39;49m\u001b[43m]\u001b[49m\u001b[43m,\u001b[49m\u001b[43m \u001b[49m\u001b[43m[\u001b[49m\u001b[38;5;241;43m1\u001b[39;49m\u001b[43m,\u001b[49m\u001b[43m \u001b[49m\u001b[38;5;241;43m1\u001b[39;49m\u001b[43m]\u001b[49m\u001b[43m]\u001b[49m\u001b[43m)\u001b[49m\n",
      "\u001b[1;31mValueError\u001b[0m: operands could not be broadcast together with shapes (2,3) (2,2) "
     ]
    }
   ],
   "source": [
    "# can't find a way to broadcast a matrix of shape (2, 2) into matrix of shape (2, 3)\n",
    "A + np.array([[1, 1], [1, 1]])"
   ]
  },
  {
   "cell_type": "markdown",
   "id": "c5735ead",
   "metadata": {},
   "source": [
    "### 2. Linear algebra"
   ]
  },
  {
   "cell_type": "code",
   "execution_count": 28,
   "id": "1022bc3c",
   "metadata": {},
   "outputs": [
    {
     "data": {
      "text/plain": [
       "array([[3, 7, 6],\n",
       "       [9, 4, 2],\n",
       "       [2, 4, 2]])"
      ]
     },
     "execution_count": 28,
     "metadata": {},
     "output_type": "execute_result"
    }
   ],
   "source": [
    "A = np.array([[3, 7, 6], [9, 4, 2], [2, 4, 2]])\n",
    "A"
   ]
  },
  {
   "cell_type": "code",
   "execution_count": 81,
   "id": "50b1f6fb",
   "metadata": {},
   "outputs": [
    {
     "data": {
      "text/plain": [
       "9"
      ]
     },
     "execution_count": 81,
     "metadata": {},
     "output_type": "execute_result"
    }
   ],
   "source": [
    "# the trace: sum of diagonal values\n",
    "np.trace(A)"
   ]
  },
  {
   "cell_type": "code",
   "execution_count": 82,
   "id": "cb800fce",
   "metadata": {},
   "outputs": [
    {
     "data": {
      "text/plain": [
       "array([3, 4, 2])"
      ]
     },
     "execution_count": 82,
     "metadata": {},
     "output_type": "execute_result"
    }
   ],
   "source": [
    "# the diagonal values\n",
    "np.diag(A)"
   ]
  },
  {
   "cell_type": "code",
   "execution_count": 83,
   "id": "f7f337c3",
   "metadata": {},
   "outputs": [
    {
     "data": {
      "text/plain": [
       "70.00000000000003"
      ]
     },
     "execution_count": 83,
     "metadata": {},
     "output_type": "execute_result"
    }
   ],
   "source": [
    "# the determinant of matrix\n",
    "np.linalg.det(A)"
   ]
  },
  {
   "cell_type": "code",
   "execution_count": 84,
   "id": "77c627e0",
   "metadata": {},
   "outputs": [
    {
     "data": {
      "text/plain": [
       "array([[ 1.23358114e-17,  1.42857143e-01, -1.42857143e-01],\n",
       "       [-2.00000000e-01, -8.57142857e-02,  6.85714286e-01],\n",
       "       [ 4.00000000e-01,  2.85714286e-02, -7.28571429e-01]])"
      ]
     },
     "execution_count": 84,
     "metadata": {},
     "output_type": "execute_result"
    }
   ],
   "source": [
    "# the inverse of matrix\n",
    "np.linalg.inv(A)"
   ]
  },
  {
   "cell_type": "code",
   "execution_count": 93,
   "id": "814f5f01",
   "metadata": {},
   "outputs": [],
   "source": [
    "# eigenvalues and eigenvectors (les valeurs propres et les vecteurs propres)\n",
    "eigenvals, eigenvects = np.linalg.eig(A)"
   ]
  },
  {
   "cell_type": "code",
   "execution_count": 94,
   "id": "d5fa7ec0",
   "metadata": {},
   "outputs": [
    {
     "data": {
      "text/plain": [
       "array([13.57774721, -2.57774721, -2.        ])"
      ]
     },
     "execution_count": 94,
     "metadata": {},
     "output_type": "execute_result"
    }
   ],
   "source": [
    "eigenvals"
   ]
  },
  {
   "cell_type": "code",
   "execution_count": 95,
   "id": "f048eb36",
   "metadata": {},
   "outputs": [
    {
     "data": {
      "text/plain": [
       "array([[ 0.64640386,  0.451853  ,  0.37139068],\n",
       "       [ 0.67977042, -0.76019207, -0.74278135],\n",
       "       [ 0.34651727,  0.46683711,  0.55708601]])"
      ]
     },
     "execution_count": 95,
     "metadata": {},
     "output_type": "execute_result"
    }
   ],
   "source": [
    "eigenvects"
   ]
  },
  {
   "cell_type": "code",
   "execution_count": 87,
   "id": "1e74a900",
   "metadata": {},
   "outputs": [
    {
     "data": {
      "text/plain": [
       "array([[ 997, 1056,  738],\n",
       "       [1116, 1081,  708],\n",
       "       [ 528,  570,  400]])"
      ]
     },
     "execution_count": 87,
     "metadata": {},
     "output_type": "execute_result"
    }
   ],
   "source": [
    "# the puissancematricielle\n",
    "np.linalg.matrix_power(A, 3)"
   ]
  },
  {
   "cell_type": "code",
   "execution_count": 96,
   "id": "74a991ad",
   "metadata": {},
   "outputs": [
    {
     "data": {
      "text/plain": [
       "3"
      ]
     },
     "execution_count": 96,
     "metadata": {},
     "output_type": "execute_result"
    }
   ],
   "source": [
    "# matrix rank (le reng d'une matrice)\n",
    "np.linalg.matrix_rank(A)"
   ]
  },
  {
   "cell_type": "code",
   "execution_count": 97,
   "id": "780d7c63",
   "metadata": {},
   "outputs": [
    {
     "data": {
      "text/plain": [
       "array([[-1.77318611e-16,  1.42857143e-01, -1.42857143e-01],\n",
       "       [-2.00000000e-01, -8.57142857e-02,  6.85714286e-01],\n",
       "       [ 4.00000000e-01,  2.85714286e-02, -7.28571429e-01]])"
      ]
     },
     "execution_count": 97,
     "metadata": {},
     "output_type": "execute_result"
    }
   ],
   "source": [
    "# pseudoinverse of a matrix\n",
    "np.linalg.pinv(A)"
   ]
  },
  {
   "cell_type": "code",
   "execution_count": 101,
   "id": "ca8eea64",
   "metadata": {},
   "outputs": [],
   "source": [
    "A = np.array([[5, 3, 6], [7, 5, 2], [6, 3, 2]])\n",
    "B = np.array([[3], [5], [6]])"
   ]
  },
  {
   "cell_type": "code",
   "execution_count": 102,
   "id": "b1750cd8",
   "metadata": {},
   "outputs": [
    {
     "data": {
      "text/plain": [
       "array([[ 1.8],\n",
       "       [-1.4],\n",
       "       [-0.3]])"
      ]
     },
     "execution_count": 102,
     "metadata": {},
     "output_type": "execute_result"
    }
   ],
   "source": [
    "# solve equations system in the form AX=B\n",
    "np.linalg.solve(A, B)"
   ]
  },
  {
   "cell_type": "markdown",
   "id": "13b47ae4",
   "metadata": {},
   "source": [
    "### 3. Probability"
   ]
  },
  {
   "cell_type": "code",
   "execution_count": 103,
   "id": "eb42c2b7",
   "metadata": {},
   "outputs": [
    {
     "data": {
      "text/plain": [
       "array([[6, 7, 1],\n",
       "       [0, 8, 1]])"
      ]
     },
     "execution_count": 103,
     "metadata": {},
     "output_type": "execute_result"
    }
   ],
   "source": [
    "# generate random integer\n",
    "np.random.randint(0, 9, (2, 3))"
   ]
  },
  {
   "cell_type": "code",
   "execution_count": 104,
   "id": "a0ec8d89",
   "metadata": {},
   "outputs": [
    {
     "data": {
      "text/plain": [
       "0.8569724791001582"
      ]
     },
     "execution_count": 104,
     "metadata": {},
     "output_type": "execute_result"
    }
   ],
   "source": [
    "# generate random number between [0, 1[\n",
    "np.random.rand()"
   ]
  },
  {
   "cell_type": "code",
   "execution_count": 107,
   "id": "bca9e9e5",
   "metadata": {},
   "outputs": [
    {
     "data": {
      "text/plain": [
       "array([[1, 1, 2, 0, 1],\n",
       "       [2, 1, 0, 1, 1],\n",
       "       [1, 3, 1, 0, 1],\n",
       "       [1, 1, 1, 4, 2]])"
      ]
     },
     "execution_count": 107,
     "metadata": {},
     "output_type": "execute_result"
    }
   ],
   "source": [
    "# pick a random number from a binomial distribution\n",
    "np.random.binomial(n=5, p=0.3, size=(4, 5))"
   ]
  },
  {
   "cell_type": "code",
   "execution_count": 109,
   "id": "62444743",
   "metadata": {},
   "outputs": [
    {
     "data": {
      "text/plain": [
       "array([[-0.70072908,  4.95451844],\n",
       "       [ 4.49712673,  3.91594447],\n",
       "       [ 1.56647616,  6.85871884]])"
      ]
     },
     "execution_count": 109,
     "metadata": {},
     "output_type": "execute_result"
    }
   ],
   "source": [
    "# pick a random number from a normal distribution\n",
    "np.random.normal(loc=4, scale=1.5, size=(3, 2))"
   ]
  },
  {
   "cell_type": "markdown",
   "id": "4134195a",
   "metadata": {},
   "source": [
    "### 4. Statistics"
   ]
  },
  {
   "cell_type": "code",
   "execution_count": 110,
   "id": "495d3262",
   "metadata": {},
   "outputs": [],
   "source": [
    "A = np.array([[5, 2, 2], [7 ,8, 4]])"
   ]
  },
  {
   "cell_type": "code",
   "execution_count": 112,
   "id": "65a23230",
   "metadata": {},
   "outputs": [
    {
     "data": {
      "text/plain": [
       "2"
      ]
     },
     "execution_count": 112,
     "metadata": {},
     "output_type": "execute_result"
    }
   ],
   "source": [
    "A.min()"
   ]
  },
  {
   "cell_type": "code",
   "execution_count": 113,
   "id": "2fe02b56",
   "metadata": {},
   "outputs": [
    {
     "data": {
      "text/plain": [
       "8"
      ]
     },
     "execution_count": 113,
     "metadata": {},
     "output_type": "execute_result"
    }
   ],
   "source": [
    "A.max()"
   ]
  },
  {
   "cell_type": "code",
   "execution_count": 115,
   "id": "6dae59a7",
   "metadata": {},
   "outputs": [
    {
     "data": {
      "text/plain": [
       "4.666666666666667"
      ]
     },
     "execution_count": 115,
     "metadata": {},
     "output_type": "execute_result"
    }
   ],
   "source": [
    "A.mean()"
   ]
  },
  {
   "cell_type": "code",
   "execution_count": 116,
   "id": "a2528902",
   "metadata": {},
   "outputs": [
    {
     "data": {
      "text/plain": [
       "2.2852182001336816"
      ]
     },
     "execution_count": 116,
     "metadata": {},
     "output_type": "execute_result"
    }
   ],
   "source": [
    "# standard diviation\n",
    "A.std()"
   ]
  },
  {
   "cell_type": "code",
   "execution_count": 117,
   "id": "1b783fbd",
   "metadata": {},
   "outputs": [
    {
     "data": {
      "text/plain": [
       "5.222222222222222"
      ]
     },
     "execution_count": 117,
     "metadata": {},
     "output_type": "execute_result"
    }
   ],
   "source": [
    "# the variance\n",
    "A.var()"
   ]
  },
  {
   "cell_type": "code",
   "execution_count": 120,
   "id": "8e452c7b",
   "metadata": {},
   "outputs": [
    {
     "data": {
      "text/plain": [
       "4.5"
      ]
     },
     "execution_count": 120,
     "metadata": {},
     "output_type": "execute_result"
    }
   ],
   "source": [
    "np.median(A)"
   ]
  },
  {
   "cell_type": "code",
   "execution_count": 121,
   "id": "d38ec1d4",
   "metadata": {},
   "outputs": [
    {
     "data": {
      "text/plain": [
       "6.5"
      ]
     },
     "execution_count": 121,
     "metadata": {},
     "output_type": "execute_result"
    }
   ],
   "source": [
    "# the thirs quantile\n",
    "np.quantile(A, 0.75)"
   ]
  },
  {
   "cell_type": "code",
   "execution_count": 29,
   "id": "f7d94f98",
   "metadata": {},
   "outputs": [
    {
     "data": {
      "text/plain": [
       "array([2, 1, 1], dtype=int64)"
      ]
     },
     "execution_count": 29,
     "metadata": {},
     "output_type": "execute_result"
    }
   ],
   "source": [
    "# the position of the minimums\n",
    "A.argmin(axis=0)"
   ]
  },
  {
   "cell_type": "code",
   "execution_count": 31,
   "id": "51088889",
   "metadata": {},
   "outputs": [
    {
     "data": {
      "text/plain": [
       "array([1, 0, 1], dtype=int64)"
      ]
     },
     "execution_count": 31,
     "metadata": {},
     "output_type": "execute_result"
    }
   ],
   "source": [
    "# the position of the maximums\n",
    "A.argmax(axis=1)"
   ]
  },
  {
   "cell_type": "markdown",
   "id": "10672a46",
   "metadata": {},
   "source": [
    "# Thaaaaaaaaaaaaanks!😊"
   ]
  }
 ],
 "metadata": {
  "kernelspec": {
   "display_name": "Python 3 (ipykernel)",
   "language": "python",
   "name": "python3"
  },
  "language_info": {
   "codemirror_mode": {
    "name": "ipython",
    "version": 3
   },
   "file_extension": ".py",
   "mimetype": "text/x-python",
   "name": "python",
   "nbconvert_exporter": "python",
   "pygments_lexer": "ipython3",
   "version": "3.10.6"
  }
 },
 "nbformat": 4,
 "nbformat_minor": 5
}
